{
  "nbformat": 4,
  "nbformat_minor": 0,
  "metadata": {
    "colab": {
      "provenance": [],
      "authorship_tag": "ABX9TyMRuGnakWp+PvVTx71JYSFh",
      "include_colab_link": true
    },
    "kernelspec": {
      "name": "python3",
      "display_name": "Python 3"
    },
    "language_info": {
      "name": "python"
    }
  },
  "cells": [
    {
      "cell_type": "markdown",
      "metadata": {
        "id": "view-in-github",
        "colab_type": "text"
      },
      "source": [
        "<a href=\"https://colab.research.google.com/github/Pranathi-99/Micro-IT-Internship/blob/main/CurrencyConvertor_project.ipynb\" target=\"_parent\"><img src=\"https://colab.research.google.com/assets/colab-badge.svg\" alt=\"Open In Colab\"/></a>"
      ]
    },
    {
      "cell_type": "markdown",
      "source": [
        "In this project requests is used to fetch and exchange the data from the ExchangeRate-API"
      ],
      "metadata": {
        "id": "X7167DCagL92"
      }
    },
    {
      "cell_type": "code",
      "execution_count": 1,
      "metadata": {
        "id": "aFfIBIlaeM9w"
      },
      "outputs": [],
      "source": [
        "import requests"
      ]
    },
    {
      "cell_type": "markdown",
      "source": [
        "ExchangeRate-API is used to provide current and historical exchange rates for various currencies."
      ],
      "metadata": {
        "id": "TIQxBQZOgoxA"
      }
    },
    {
      "cell_type": "code",
      "source": [
        "class CurrencyConverter_project:\n",
        "    def __init__(self):\n",
        "        self.exchange_rates = {}\n",
        "        self.supported_currencies = ['USD', 'EUR', 'GBP', 'INR', 'AUD', 'CAD', 'JPY']\n",
        "\n",
        "    def fetch_exchange_rates(self, base_currency):\n",
        "        url = f'https://api.exchangerate-api.com/v4/latest/{base_currency}'\n",
        "        response = requests.get(url)\n",
        "        data = response.json()\n",
        "        self.exchange_rates = data['rates']\n",
        "\n",
        "    def convert(self, amount, from_currency, to_currency):\n",
        "        if from_currency == 'USD':\n",
        "            return amount * self.exchange_rates[to_currency]\n",
        "        else:\n",
        "            usd_amount = amount / self.exchange_rates[from_currency]\n",
        "            return usd_amount * self.exchange_rates[to_currency]\n",
        "\n",
        "def main():\n",
        "    converter = CurrencyConverter_project()\n",
        "    converter.fetch_exchange_rates('USD')\n",
        "    print(\"Supported currencies: \", converter.supported_currencies)\n",
        "\n",
        "    amount = float(input(\"Enter amount: \"))\n",
        "    from_currency = input(\"Enter from currency (e.g. USD, EUR, GBP, INR): \").upper()\n",
        "    to_currency = input(\"Enter to currency (e.g. USD, EUR, GBP, INR): \").upper()\n",
        "\n",
        "    if from_currency in converter.supported_currencies and to_currency in converter.supported_currencies:\n",
        "        converted_amount = converter.convert(amount, from_currency, to_currency)\n",
        "        print(f'{amount} {from_currency} is equal to {converted_amount} {to_currency}')\n",
        "    else:\n",
        "      print(\"Unsupported currency. Please try again.\")\n",
        "\n",
        "if __name__ == \"__main__\":\n",
        "  main()"
      ],
      "metadata": {
        "colab": {
          "base_uri": "https://localhost:8080/"
        },
        "id": "rowQXz1veW4o",
        "outputId": "5b33ee1e-5044-4e37-988a-edca298c8537"
      },
      "execution_count": 2,
      "outputs": [
        {
          "output_type": "stream",
          "name": "stdout",
          "text": [
            "Supported currencies:  ['USD', 'EUR', 'GBP', 'INR', 'AUD', 'CAD', 'JPY']\n",
            "Enter amount: 562\n",
            "Enter from currency (e.g. USD, EUR, GBP, INR): EUR\n",
            "Enter to currency (e.g. USD, EUR, GBP, INR): INR\n",
            "562.0 EUR is equal to 53059.044444444444 INR\n"
          ]
        }
      ]
    }
  ]
}